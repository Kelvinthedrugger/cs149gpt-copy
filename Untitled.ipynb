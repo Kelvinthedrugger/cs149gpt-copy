{
 "cells": [
  {
   "cell_type": "code",
   "execution_count": 1,
   "id": "e37cd09c-7aa3-4f9f-b200-8c9f3d95b7af",
   "metadata": {},
   "outputs": [],
   "source": [
    "import torch\n",
    "\n",
    "Q = torch.load('Q.pt')\n",
    "K = torch.load('K.pt')\n",
    "V = torch.load('V.pt')\n",
    "ans = torch.load('ans.pt')"
   ]
  },
  {
   "cell_type": "code",
   "execution_count": 14,
   "id": "a7b25153-e40d-4292-9e4b-460b42b12864",
   "metadata": {},
   "outputs": [],
   "source": [
    "out = torch.load('out.pt')"
   ]
  },
  {
   "cell_type": "code",
   "execution_count": 3,
   "id": "aee6dc46-efdf-4169-b85e-96e007a22964",
   "metadata": {},
   "outputs": [
    {
     "data": {
      "text/plain": [
       "(torch.Size([1, 1, 3, 2]),\n",
       " torch.Size([1, 1, 3, 2]),\n",
       " torch.Size([1, 1, 3, 2]),\n",
       " torch.Size([1, 1, 3, 2]),\n",
       " torch.Size([1, 1, 3, 2]))"
      ]
     },
     "execution_count": 3,
     "metadata": {},
     "output_type": "execute_result"
    }
   ],
   "source": [
    "Q.shape, K.shape, V.shape, ans.shape, out.shape"
   ]
  },
  {
   "cell_type": "code",
   "execution_count": 4,
   "id": "a2e62247-e305-44c6-870b-bf28021e2f9c",
   "metadata": {},
   "outputs": [
    {
     "data": {
      "text/plain": [
       "tensor([[[[0.0002, 0.0010],\n",
       "          [0.0002, 0.0010],\n",
       "          [0.0002, 0.0010]]]])"
      ]
     },
     "execution_count": 4,
     "metadata": {},
     "output_type": "execute_result"
    }
   ],
   "source": [
    "ans"
   ]
  },
  {
   "cell_type": "code",
   "execution_count": 5,
   "id": "a96297be-46cf-4341-a209-b73a32ab0add",
   "metadata": {},
   "outputs": [
    {
     "data": {
      "text/plain": [
       "tensor([[[[3.0000e-08, 9.0000e-08, 1.5000e-07],\n",
       "          [9.0000e-08, 3.9000e-07, 6.9000e-07],\n",
       "          [1.5000e-07, 6.9000e-07, 1.2300e-06]]]])"
      ]
     },
     "execution_count": 5,
     "metadata": {},
     "output_type": "execute_result"
    }
   ],
   "source": [
    "Q @ K.transpose(-2,-1)"
   ]
  },
  {
   "cell_type": "code",
   "execution_count": 6,
   "id": "663ba534-3604-493b-a297-87afef85e979",
   "metadata": {},
   "outputs": [
    {
     "data": {
      "text/plain": [
       "tensor([[[3.0000, 3.0000, 3.0000]]])"
      ]
     },
     "execution_count": 6,
     "metadata": {},
     "output_type": "execute_result"
    }
   ],
   "source": [
    "(Q @ K.transpose(-2,-1)).exp().sum(dim=3)"
   ]
  },
  {
   "cell_type": "code",
   "execution_count": 7,
   "id": "edd086ec-6efe-4ca6-ba4f-fd30be410d9c",
   "metadata": {},
   "outputs": [
    {
     "data": {
      "text/plain": [
       "tensor([[[[1.0000, 1.0000, 1.0000],\n",
       "          [1.0000, 1.0000, 1.0000],\n",
       "          [1.0000, 1.0000, 1.0000]]]])"
      ]
     },
     "execution_count": 7,
     "metadata": {},
     "output_type": "execute_result"
    }
   ],
   "source": [
    "(Q @ K.transpose(-2,-1)).exp()"
   ]
  },
  {
   "cell_type": "code",
   "execution_count": 8,
   "id": "e08d5d89-464d-49bd-ba57-e7401ae23f82",
   "metadata": {},
   "outputs": [
    {
     "data": {
      "text/plain": [
       "tensor([[[[0.3333, 0.3333, 0.3333],\n",
       "          [0.3333, 0.3333, 0.3333],\n",
       "          [0.3333, 0.3333, 0.3333]]]])"
      ]
     },
     "execution_count": 8,
     "metadata": {},
     "output_type": "execute_result"
    }
   ],
   "source": [
    "(Q @ K.transpose(-2,-1)).softmax(dim=3)"
   ]
  },
  {
   "cell_type": "code",
   "execution_count": 9,
   "id": "8ae4b990-6f12-4172-bddd-0882710c109b",
   "metadata": {},
   "outputs": [
    {
     "data": {
      "text/plain": [
       "tensor([[[[0.0002, 0.0010],\n",
       "          [0.0002, 0.0010],\n",
       "          [0.0002, 0.0010]]]])"
      ]
     },
     "execution_count": 9,
     "metadata": {},
     "output_type": "execute_result"
    }
   ],
   "source": [
    "(Q @ K.transpose(-2,-1)).softmax(dim=3) @ V"
   ]
  },
  {
   "cell_type": "code",
   "execution_count": 10,
   "id": "abe43649-f64a-4ff5-b948-1512b74e3dff",
   "metadata": {},
   "outputs": [
    {
     "data": {
      "text/plain": [
       "tensor([[[[0.0002, 0.0010],\n",
       "          [0.0002, 0.0010],\n",
       "          [0.0002, 0.0010]]]])"
      ]
     },
     "execution_count": 10,
     "metadata": {},
     "output_type": "execute_result"
    }
   ],
   "source": [
    "ans"
   ]
  },
  {
   "cell_type": "code",
   "execution_count": 15,
   "id": "c5089119-9481-47f1-aa05-f5cc892ca2d6",
   "metadata": {},
   "outputs": [
    {
     "data": {
      "text/plain": [
       "tensor([[[[0.0002, 0.0010],\n",
       "          [0.0002, 0.0010],\n",
       "          [0.0002, 0.0010]]]])"
      ]
     },
     "execution_count": 15,
     "metadata": {},
     "output_type": "execute_result"
    }
   ],
   "source": [
    "out"
   ]
  },
  {
   "cell_type": "code",
   "execution_count": null,
   "id": "c28eb951-5643-40fa-872b-2f8536d73eb4",
   "metadata": {},
   "outputs": [],
   "source": []
  }
 ],
 "metadata": {
  "kernelspec": {
   "display_name": "Python 3 (ipykernel)",
   "language": "python",
   "name": "python3"
  },
  "language_info": {
   "codemirror_mode": {
    "name": "ipython",
    "version": 3
   },
   "file_extension": ".py",
   "mimetype": "text/x-python",
   "name": "python",
   "nbconvert_exporter": "python",
   "pygments_lexer": "ipython3",
   "version": "3.10.12"
  }
 },
 "nbformat": 4,
 "nbformat_minor": 5
}
